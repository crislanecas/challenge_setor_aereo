{
  "nbformat": 4,
  "nbformat_minor": 0,
  "metadata": {
    "colab": {
      "provenance": [],
      "mount_file_id": "1pCuYSnJqXmxo1CHbVvlNa0dr8Nzm9ST9",
      "authorship_tag": "ABX9TyODQMd2cXE6QsJ4o7Rtewww",
      "include_colab_link": true
    },
    "kernelspec": {
      "name": "python3",
      "display_name": "Python 3"
    },
    "language_info": {
      "name": "python"
    },
    "widgets": {
      "application/vnd.jupyter.widget-state+json": {
        "4f20f93bb0054b0d9b5c85e42659057f": {
          "model_module": "@jupyter-widgets/controls",
          "model_name": "HBoxModel",
          "model_module_version": "1.5.0",
          "state": {
            "_dom_classes": [],
            "_model_module": "@jupyter-widgets/controls",
            "_model_module_version": "1.5.0",
            "_model_name": "HBoxModel",
            "_view_count": null,
            "_view_module": "@jupyter-widgets/controls",
            "_view_module_version": "1.5.0",
            "_view_name": "HBoxView",
            "box_style": "",
            "children": [
              "IPY_MODEL_cb9f34cab966499db1d4fdf74484c0c0"
            ],
            "layout": "IPY_MODEL_07b2efb5aabe442498ab2599ef7b8d4f"
          }
        },
        "cb9f34cab966499db1d4fdf74484c0c0": {
          "model_module": "@jupyter-widgets/controls",
          "model_name": "VBoxModel",
          "model_module_version": "1.5.0",
          "state": {
            "_dom_classes": [],
            "_model_module": "@jupyter-widgets/controls",
            "_model_module_version": "1.5.0",
            "_model_name": "VBoxModel",
            "_view_count": null,
            "_view_module": "@jupyter-widgets/controls",
            "_view_module_version": "1.5.0",
            "_view_name": "VBoxView",
            "box_style": "",
            "children": [
              "IPY_MODEL_b86e8cf5398147349556f69ba13b4195",
              "IPY_MODEL_41b08fec4f5a4882b3733861c0d7cec7",
              "IPY_MODEL_b9c23d541cb246afbd7858590fed1ad7"
            ],
            "layout": "IPY_MODEL_aa1de5ce79304674a9bdda574559a5bb"
          }
        },
        "07b2efb5aabe442498ab2599ef7b8d4f": {
          "model_module": "@jupyter-widgets/base",
          "model_name": "LayoutModel",
          "model_module_version": "1.2.0",
          "state": {
            "_model_module": "@jupyter-widgets/base",
            "_model_module_version": "1.2.0",
            "_model_name": "LayoutModel",
            "_view_count": null,
            "_view_module": "@jupyter-widgets/base",
            "_view_module_version": "1.2.0",
            "_view_name": "LayoutView",
            "align_content": null,
            "align_items": null,
            "align_self": null,
            "border": null,
            "bottom": null,
            "display": null,
            "flex": null,
            "flex_flow": null,
            "grid_area": null,
            "grid_auto_columns": null,
            "grid_auto_flow": null,
            "grid_auto_rows": null,
            "grid_column": null,
            "grid_gap": null,
            "grid_row": null,
            "grid_template_areas": null,
            "grid_template_columns": null,
            "grid_template_rows": null,
            "height": null,
            "justify_content": null,
            "justify_items": null,
            "left": null,
            "margin": null,
            "max_height": null,
            "max_width": null,
            "min_height": null,
            "min_width": null,
            "object_fit": null,
            "object_position": null,
            "order": null,
            "overflow": null,
            "overflow_x": null,
            "overflow_y": null,
            "padding": null,
            "right": null,
            "top": null,
            "visibility": null,
            "width": null
          }
        },
        "b86e8cf5398147349556f69ba13b4195": {
          "model_module": "@jupyter-widgets/controls",
          "model_name": "TextModel",
          "model_module_version": "1.5.0",
          "state": {
            "_dom_classes": [],
            "_model_module": "@jupyter-widgets/controls",
            "_model_module_version": "1.5.0",
            "_model_name": "TextModel",
            "_view_count": null,
            "_view_module": "@jupyter-widgets/controls",
            "_view_module_version": "1.5.0",
            "_view_name": "TextView",
            "continuous_update": true,
            "description": "Distância entre aeroportos (milhas):",
            "description_tooltip": null,
            "disabled": false,
            "layout": "IPY_MODEL_c67ab6b15874405a9a9716a97956eebe",
            "placeholder": "​",
            "style": "IPY_MODEL_cb563cc111764172bd950bafe59108fa",
            "value": "456"
          }
        },
        "41b08fec4f5a4882b3733861c0d7cec7": {
          "model_module": "@jupyter-widgets/controls",
          "model_name": "TextModel",
          "model_module_version": "1.5.0",
          "state": {
            "_dom_classes": [],
            "_model_module": "@jupyter-widgets/controls",
            "_model_module_version": "1.5.0",
            "_model_name": "TextModel",
            "_view_count": null,
            "_view_module": "@jupyter-widgets/controls",
            "_view_module_version": "1.5.0",
            "_view_name": "TextView",
            "continuous_update": true,
            "description": "Diferença entre partida programado e o real (minutos):",
            "description_tooltip": null,
            "disabled": false,
            "layout": "IPY_MODEL_c67ab6b15874405a9a9716a97956eebe",
            "placeholder": "​",
            "style": "IPY_MODEL_5c1ad2590c4842eaa4bbe50bd3e47297",
            "value": "40"
          }
        },
        "b9c23d541cb246afbd7858590fed1ad7": {
          "model_module": "@jupyter-widgets/controls",
          "model_name": "TextModel",
          "model_module_version": "1.5.0",
          "state": {
            "_dom_classes": [],
            "_model_module": "@jupyter-widgets/controls",
            "_model_module_version": "1.5.0",
            "_model_name": "TextModel",
            "_view_count": null,
            "_view_module": "@jupyter-widgets/controls",
            "_view_module_version": "1.5.0",
            "_view_name": "TextView",
            "continuous_update": true,
            "description": "Tempo de voo (minutos):",
            "description_tooltip": null,
            "disabled": false,
            "layout": "IPY_MODEL_c67ab6b15874405a9a9716a97956eebe",
            "placeholder": "​",
            "style": "IPY_MODEL_63a4da8cecc14c8db9a8a7a975ea006d",
            "value": "60"
          }
        },
        "aa1de5ce79304674a9bdda574559a5bb": {
          "model_module": "@jupyter-widgets/base",
          "model_name": "LayoutModel",
          "model_module_version": "1.2.0",
          "state": {
            "_model_module": "@jupyter-widgets/base",
            "_model_module_version": "1.2.0",
            "_model_name": "LayoutModel",
            "_view_count": null,
            "_view_module": "@jupyter-widgets/base",
            "_view_module_version": "1.2.0",
            "_view_name": "LayoutView",
            "align_content": null,
            "align_items": null,
            "align_self": null,
            "border": null,
            "bottom": null,
            "display": null,
            "flex": null,
            "flex_flow": null,
            "grid_area": null,
            "grid_auto_columns": null,
            "grid_auto_flow": null,
            "grid_auto_rows": null,
            "grid_column": null,
            "grid_gap": null,
            "grid_row": null,
            "grid_template_areas": null,
            "grid_template_columns": null,
            "grid_template_rows": null,
            "height": null,
            "justify_content": null,
            "justify_items": null,
            "left": null,
            "margin": null,
            "max_height": null,
            "max_width": null,
            "min_height": null,
            "min_width": null,
            "object_fit": null,
            "object_position": null,
            "order": null,
            "overflow": null,
            "overflow_x": null,
            "overflow_y": null,
            "padding": null,
            "right": null,
            "top": null,
            "visibility": null,
            "width": null
          }
        },
        "c67ab6b15874405a9a9716a97956eebe": {
          "model_module": "@jupyter-widgets/base",
          "model_name": "LayoutModel",
          "model_module_version": "1.2.0",
          "state": {
            "_model_module": "@jupyter-widgets/base",
            "_model_module_version": "1.2.0",
            "_model_name": "LayoutModel",
            "_view_count": null,
            "_view_module": "@jupyter-widgets/base",
            "_view_module_version": "1.2.0",
            "_view_name": "LayoutView",
            "align_content": null,
            "align_items": null,
            "align_self": null,
            "border": null,
            "bottom": null,
            "display": "flex",
            "flex": null,
            "flex_flow": "column",
            "grid_area": null,
            "grid_auto_columns": null,
            "grid_auto_flow": null,
            "grid_auto_rows": null,
            "grid_column": null,
            "grid_gap": null,
            "grid_row": null,
            "grid_template_areas": null,
            "grid_template_columns": null,
            "grid_template_rows": null,
            "height": null,
            "justify_content": "space-between",
            "justify_items": null,
            "left": null,
            "margin": null,
            "max_height": null,
            "max_width": null,
            "min_height": null,
            "min_width": null,
            "object_fit": null,
            "object_position": null,
            "order": null,
            "overflow": null,
            "overflow_x": null,
            "overflow_y": null,
            "padding": null,
            "right": null,
            "top": null,
            "visibility": null,
            "width": "55%"
          }
        },
        "cb563cc111764172bd950bafe59108fa": {
          "model_module": "@jupyter-widgets/controls",
          "model_name": "DescriptionStyleModel",
          "model_module_version": "1.5.0",
          "state": {
            "_model_module": "@jupyter-widgets/controls",
            "_model_module_version": "1.5.0",
            "_model_name": "DescriptionStyleModel",
            "_view_count": null,
            "_view_module": "@jupyter-widgets/base",
            "_view_module_version": "1.2.0",
            "_view_name": "StyleView",
            "description_width": "initial"
          }
        },
        "5c1ad2590c4842eaa4bbe50bd3e47297": {
          "model_module": "@jupyter-widgets/controls",
          "model_name": "DescriptionStyleModel",
          "model_module_version": "1.5.0",
          "state": {
            "_model_module": "@jupyter-widgets/controls",
            "_model_module_version": "1.5.0",
            "_model_name": "DescriptionStyleModel",
            "_view_count": null,
            "_view_module": "@jupyter-widgets/base",
            "_view_module_version": "1.2.0",
            "_view_name": "StyleView",
            "description_width": "initial"
          }
        },
        "63a4da8cecc14c8db9a8a7a975ea006d": {
          "model_module": "@jupyter-widgets/controls",
          "model_name": "DescriptionStyleModel",
          "model_module_version": "1.5.0",
          "state": {
            "_model_module": "@jupyter-widgets/controls",
            "_model_module_version": "1.5.0",
            "_model_name": "DescriptionStyleModel",
            "_view_count": null,
            "_view_module": "@jupyter-widgets/base",
            "_view_module_version": "1.2.0",
            "_view_name": "StyleView",
            "description_width": "initial"
          }
        },
        "4aa99a63b61447b9a3820e4ae2846110": {
          "model_module": "@jupyter-widgets/controls",
          "model_name": "ButtonModel",
          "model_module_version": "1.5.0",
          "state": {
            "_dom_classes": [],
            "_model_module": "@jupyter-widgets/controls",
            "_model_module_version": "1.5.0",
            "_model_name": "ButtonModel",
            "_view_count": null,
            "_view_module": "@jupyter-widgets/controls",
            "_view_module_version": "1.5.0",
            "_view_name": "ButtonView",
            "button_style": "",
            "description": "Simular",
            "disabled": false,
            "icon": "",
            "layout": "IPY_MODEL_e51e1e6e0f784718be58f97c5ad8833d",
            "style": "IPY_MODEL_2c9881208bf54ae7bd4d0b9911a9075b",
            "tooltip": ""
          }
        },
        "e51e1e6e0f784718be58f97c5ad8833d": {
          "model_module": "@jupyter-widgets/base",
          "model_name": "LayoutModel",
          "model_module_version": "1.2.0",
          "state": {
            "_model_module": "@jupyter-widgets/base",
            "_model_module_version": "1.2.0",
            "_model_name": "LayoutModel",
            "_view_count": null,
            "_view_module": "@jupyter-widgets/base",
            "_view_module_version": "1.2.0",
            "_view_name": "LayoutView",
            "align_content": null,
            "align_items": null,
            "align_self": null,
            "border": null,
            "bottom": null,
            "display": null,
            "flex": null,
            "flex_flow": null,
            "grid_area": null,
            "grid_auto_columns": null,
            "grid_auto_flow": null,
            "grid_auto_rows": null,
            "grid_column": null,
            "grid_gap": null,
            "grid_row": null,
            "grid_template_areas": null,
            "grid_template_columns": null,
            "grid_template_rows": null,
            "height": null,
            "justify_content": null,
            "justify_items": null,
            "left": null,
            "margin": null,
            "max_height": null,
            "max_width": null,
            "min_height": null,
            "min_width": null,
            "object_fit": null,
            "object_position": null,
            "order": null,
            "overflow": null,
            "overflow_x": null,
            "overflow_y": null,
            "padding": null,
            "right": null,
            "top": null,
            "visibility": null,
            "width": null
          }
        },
        "2c9881208bf54ae7bd4d0b9911a9075b": {
          "model_module": "@jupyter-widgets/controls",
          "model_name": "ButtonStyleModel",
          "model_module_version": "1.5.0",
          "state": {
            "_model_module": "@jupyter-widgets/controls",
            "_model_module_version": "1.5.0",
            "_model_name": "ButtonStyleModel",
            "_view_count": null,
            "_view_module": "@jupyter-widgets/base",
            "_view_module_version": "1.2.0",
            "_view_name": "StyleView",
            "button_color": null,
            "font_weight": ""
          }
        }
      }
    }
  },
  "cells": [
    {
      "cell_type": "markdown",
      "metadata": {
        "id": "view-in-github",
        "colab_type": "text"
      },
      "source": [
        "<a href=\"https://colab.research.google.com/github/crislanecas/challenge_setor_aereo/blob/main/Simulador_Tempo_de_Atraso_de_Voo_(apresenta%C3%A7%C3%A3o).ipynb\" target=\"_parent\"><img src=\"https://colab.research.google.com/assets/colab-badge.svg\" alt=\"Open In Colab\"/></a>"
      ]
    },
    {
      "cell_type": "code",
      "source": [
        "# Importa a biblioteca.\n",
        "import pickle"
      ],
      "metadata": {
        "id": "i4k6M1qsNlxk"
      },
      "execution_count": null,
      "outputs": []
    },
    {
      "cell_type": "code",
      "source": [
        "# Importa as bibliotecas para criar o formulário.\n",
        "from ipywidgets import widgets, Layout, HBox, VBox\n",
        "from IPython.display import display"
      ],
      "metadata": {
        "id": "yGX_J40QYV3N"
      },
      "execution_count": null,
      "outputs": []
    },
    {
      "cell_type": "code",
      "execution_count": null,
      "metadata": {
        "id": "oFx6sy8qNgea"
      },
      "outputs": [],
      "source": [
        "# Processo de input abrir e ler o modelo estimado.\n",
        "modelo = open('/content/drive/MyDrive/Colab Notebooks/Bootcamp Data Analytics - WoMakersCode/Desafios WoMakerCode/modelo_tempo_atraso','rb')\n",
        "lm_new = pickle.load(modelo)\n",
        "modelo.close()"
      ]
    },
    {
      "cell_type": "code",
      "source": [
        "# Define o estilo de largura da descrição.\n",
        "style = {'description_width': 'initial'}\n",
        "\n",
        "# Define um layout para os controles do formulário.\n",
        "layout = Layout(\n",
        "    display='flex',\n",
        "    flex_flow='column',\n",
        "    justify_content='space-between',\n",
        "    width='55%'\n",
        ")\n",
        "\n",
        "# Cria os controles do formulário.\n",
        "Distance = widgets.Text(description=\"Distância entre aeroportos (milhas):\", style=style , layout=layout)\n",
        "DepDelayMinutes = widgets.Text(description=\"Diferença entre partida programado e o real (minutos):\", style=style, layout=layout)\n",
        "AirTime = widgets.Text(description=\"Tempo de voo (minutos):\", style=style, layout=layout)\n",
        "\n",
        "# Cria o botão do formulário.\n",
        "botao = widgets.Button(description=\"Simular\")\n",
        "\n",
        "# Posiciona os controles.\n",
        "left = VBox([Distance, DepDelayMinutes, AirTime])\n",
        "inputs = HBox([left])\n",
        "\n",
        "# Função de simulação.\n",
        "def simulador(sender):\n",
        "    entrada=[[\n",
        "                float(Distance.value if Distance.value else 0),\n",
        "                float(DepDelayMinutes.value if DepDelayMinutes.value else 0),\n",
        "                float(AirTime.value if AirTime.value else 0)\n",
        "\n",
        "             ]]\n",
        "    print('{0:.2f} tempo de atraso de voo em minutos.'.format(lm_new.predict(entrada)[0]))\n",
        "\n",
        "# Atribui a função \"simulador\" ao evento click do botão.\n",
        "botao.on_click(simulador)\n",
        "\n",
        "# Exibe os controles de inputs e botão,\n",
        "display(inputs, botao)"
      ],
      "metadata": {
        "id": "ds2kmaB3NLH2",
        "colab": {
          "base_uri": "https://localhost:8080/",
          "height": 281,
          "referenced_widgets": [
            "4f20f93bb0054b0d9b5c85e42659057f",
            "cb9f34cab966499db1d4fdf74484c0c0",
            "07b2efb5aabe442498ab2599ef7b8d4f",
            "b86e8cf5398147349556f69ba13b4195",
            "41b08fec4f5a4882b3733861c0d7cec7",
            "b9c23d541cb246afbd7858590fed1ad7",
            "aa1de5ce79304674a9bdda574559a5bb",
            "c67ab6b15874405a9a9716a97956eebe",
            "cb563cc111764172bd950bafe59108fa",
            "5c1ad2590c4842eaa4bbe50bd3e47297",
            "63a4da8cecc14c8db9a8a7a975ea006d",
            "4aa99a63b61447b9a3820e4ae2846110",
            "e51e1e6e0f784718be58f97c5ad8833d",
            "2c9881208bf54ae7bd4d0b9911a9075b"
          ]
        },
        "outputId": "0c80b523-a72c-490d-8c7c-74b545590ee6"
      },
      "execution_count": null,
      "outputs": [
        {
          "output_type": "display_data",
          "data": {
            "text/plain": [
              "HBox(children=(VBox(children=(Text(value='', description='Distância entre aeroportos (milhas):', layout=Layout…"
            ],
            "application/vnd.jupyter.widget-view+json": {
              "version_major": 2,
              "version_minor": 0,
              "model_id": "4f20f93bb0054b0d9b5c85e42659057f"
            }
          },
          "metadata": {}
        },
        {
          "output_type": "display_data",
          "data": {
            "text/plain": [
              "Button(description='Simular', style=ButtonStyle())"
            ],
            "application/vnd.jupyter.widget-view+json": {
              "version_major": 2,
              "version_minor": 0,
              "model_id": "4aa99a63b61447b9a3820e4ae2846110"
            }
          },
          "metadata": {}
        },
        {
          "output_type": "stream",
          "name": "stdout",
          "text": [
            "37.29 tempo de atraso de voo em minutos.\n"
          ]
        },
        {
          "output_type": "stream",
          "name": "stderr",
          "text": [
            "/usr/local/lib/python3.10/dist-packages/sklearn/base.py:439: UserWarning: X does not have valid feature names, but LinearRegression was fitted with feature names\n",
            "  warnings.warn(\n"
          ]
        }
      ]
    }
  ]
}