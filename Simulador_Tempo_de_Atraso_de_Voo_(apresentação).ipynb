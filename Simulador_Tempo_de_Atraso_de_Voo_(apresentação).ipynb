{
  "nbformat": 4,
  "nbformat_minor": 0,
  "metadata": {
    "colab": {
      "provenance": [],
      "mount_file_id": "1pCuYSnJqXmxo1CHbVvlNa0dr8Nzm9ST9",
      "authorship_tag": "ABX9TyMKlTJ5bZ8LYn0BQr/7t90a",
      "include_colab_link": true
    },
    "kernelspec": {
      "name": "python3",
      "display_name": "Python 3"
    },
    "language_info": {
      "name": "python"
    },
    "widgets": {
      "application/vnd.jupyter.widget-state+json": {
        "70dab5da3c4a49a89d7ea192a20f559d": {
          "model_module": "@jupyter-widgets/controls",
          "model_name": "HBoxModel",
          "model_module_version": "1.5.0",
          "state": {
            "_dom_classes": [],
            "_model_module": "@jupyter-widgets/controls",
            "_model_module_version": "1.5.0",
            "_model_name": "HBoxModel",
            "_view_count": null,
            "_view_module": "@jupyter-widgets/controls",
            "_view_module_version": "1.5.0",
            "_view_name": "HBoxView",
            "box_style": "",
            "children": [
              "IPY_MODEL_fa60edce16ba40c499fd67f0f6bb239c"
            ],
            "layout": "IPY_MODEL_109aec8ffa4a44e9b168e198e3f978f9"
          }
        },
        "fa60edce16ba40c499fd67f0f6bb239c": {
          "model_module": "@jupyter-widgets/controls",
          "model_name": "VBoxModel",
          "model_module_version": "1.5.0",
          "state": {
            "_dom_classes": [],
            "_model_module": "@jupyter-widgets/controls",
            "_model_module_version": "1.5.0",
            "_model_name": "VBoxModel",
            "_view_count": null,
            "_view_module": "@jupyter-widgets/controls",
            "_view_module_version": "1.5.0",
            "_view_name": "VBoxView",
            "box_style": "",
            "children": [
              "IPY_MODEL_e38e6db434b344609d971a0d46aa6e8e",
              "IPY_MODEL_3c397c3d322b49ca9a33346fd56892b8",
              "IPY_MODEL_40c720a0c50947509ebb5de0852bd04c"
            ],
            "layout": "IPY_MODEL_295efebc45ec409f883fd38b8b8a1b68"
          }
        },
        "109aec8ffa4a44e9b168e198e3f978f9": {
          "model_module": "@jupyter-widgets/base",
          "model_name": "LayoutModel",
          "model_module_version": "1.2.0",
          "state": {
            "_model_module": "@jupyter-widgets/base",
            "_model_module_version": "1.2.0",
            "_model_name": "LayoutModel",
            "_view_count": null,
            "_view_module": "@jupyter-widgets/base",
            "_view_module_version": "1.2.0",
            "_view_name": "LayoutView",
            "align_content": null,
            "align_items": null,
            "align_self": null,
            "border": null,
            "bottom": null,
            "display": null,
            "flex": null,
            "flex_flow": null,
            "grid_area": null,
            "grid_auto_columns": null,
            "grid_auto_flow": null,
            "grid_auto_rows": null,
            "grid_column": null,
            "grid_gap": null,
            "grid_row": null,
            "grid_template_areas": null,
            "grid_template_columns": null,
            "grid_template_rows": null,
            "height": null,
            "justify_content": null,
            "justify_items": null,
            "left": null,
            "margin": null,
            "max_height": null,
            "max_width": null,
            "min_height": null,
            "min_width": null,
            "object_fit": null,
            "object_position": null,
            "order": null,
            "overflow": null,
            "overflow_x": null,
            "overflow_y": null,
            "padding": null,
            "right": null,
            "top": null,
            "visibility": null,
            "width": null
          }
        },
        "e38e6db434b344609d971a0d46aa6e8e": {
          "model_module": "@jupyter-widgets/controls",
          "model_name": "TextModel",
          "model_module_version": "1.5.0",
          "state": {
            "_dom_classes": [],
            "_model_module": "@jupyter-widgets/controls",
            "_model_module_version": "1.5.0",
            "_model_name": "TextModel",
            "_view_count": null,
            "_view_module": "@jupyter-widgets/controls",
            "_view_module_version": "1.5.0",
            "_view_name": "TextView",
            "continuous_update": true,
            "description": "Distância entre aeroportos (milhas):",
            "description_tooltip": null,
            "disabled": false,
            "layout": "IPY_MODEL_74b278ec04924c759e5b708a8ab186bf",
            "placeholder": "​",
            "style": "IPY_MODEL_f68b7bfb519742228b0ffeb0b6883481",
            "value": ""
          }
        },
        "3c397c3d322b49ca9a33346fd56892b8": {
          "model_module": "@jupyter-widgets/controls",
          "model_name": "TextModel",
          "model_module_version": "1.5.0",
          "state": {
            "_dom_classes": [],
            "_model_module": "@jupyter-widgets/controls",
            "_model_module_version": "1.5.0",
            "_model_name": "TextModel",
            "_view_count": null,
            "_view_module": "@jupyter-widgets/controls",
            "_view_module_version": "1.5.0",
            "_view_name": "TextView",
            "continuous_update": true,
            "description": "Diferença entre partida programado e o real (minutos):",
            "description_tooltip": null,
            "disabled": false,
            "layout": "IPY_MODEL_74b278ec04924c759e5b708a8ab186bf",
            "placeholder": "​",
            "style": "IPY_MODEL_4a3044eb9f7d494d96f321be429b0c20",
            "value": ""
          }
        },
        "40c720a0c50947509ebb5de0852bd04c": {
          "model_module": "@jupyter-widgets/controls",
          "model_name": "TextModel",
          "model_module_version": "1.5.0",
          "state": {
            "_dom_classes": [],
            "_model_module": "@jupyter-widgets/controls",
            "_model_module_version": "1.5.0",
            "_model_name": "TextModel",
            "_view_count": null,
            "_view_module": "@jupyter-widgets/controls",
            "_view_module_version": "1.5.0",
            "_view_name": "TextView",
            "continuous_update": true,
            "description": "Tempo de voo (minutos):",
            "description_tooltip": null,
            "disabled": false,
            "layout": "IPY_MODEL_74b278ec04924c759e5b708a8ab186bf",
            "placeholder": "​",
            "style": "IPY_MODEL_713a714e6841459591935969865b0c90",
            "value": ""
          }
        },
        "295efebc45ec409f883fd38b8b8a1b68": {
          "model_module": "@jupyter-widgets/base",
          "model_name": "LayoutModel",
          "model_module_version": "1.2.0",
          "state": {
            "_model_module": "@jupyter-widgets/base",
            "_model_module_version": "1.2.0",
            "_model_name": "LayoutModel",
            "_view_count": null,
            "_view_module": "@jupyter-widgets/base",
            "_view_module_version": "1.2.0",
            "_view_name": "LayoutView",
            "align_content": null,
            "align_items": null,
            "align_self": null,
            "border": null,
            "bottom": null,
            "display": null,
            "flex": null,
            "flex_flow": null,
            "grid_area": null,
            "grid_auto_columns": null,
            "grid_auto_flow": null,
            "grid_auto_rows": null,
            "grid_column": null,
            "grid_gap": null,
            "grid_row": null,
            "grid_template_areas": null,
            "grid_template_columns": null,
            "grid_template_rows": null,
            "height": null,
            "justify_content": null,
            "justify_items": null,
            "left": null,
            "margin": null,
            "max_height": null,
            "max_width": null,
            "min_height": null,
            "min_width": null,
            "object_fit": null,
            "object_position": null,
            "order": null,
            "overflow": null,
            "overflow_x": null,
            "overflow_y": null,
            "padding": null,
            "right": null,
            "top": null,
            "visibility": null,
            "width": null
          }
        },
        "74b278ec04924c759e5b708a8ab186bf": {
          "model_module": "@jupyter-widgets/base",
          "model_name": "LayoutModel",
          "model_module_version": "1.2.0",
          "state": {
            "_model_module": "@jupyter-widgets/base",
            "_model_module_version": "1.2.0",
            "_model_name": "LayoutModel",
            "_view_count": null,
            "_view_module": "@jupyter-widgets/base",
            "_view_module_version": "1.2.0",
            "_view_name": "LayoutView",
            "align_content": null,
            "align_items": null,
            "align_self": null,
            "border": null,
            "bottom": null,
            "display": "flex",
            "flex": null,
            "flex_flow": "column",
            "grid_area": null,
            "grid_auto_columns": null,
            "grid_auto_flow": null,
            "grid_auto_rows": null,
            "grid_column": null,
            "grid_gap": null,
            "grid_row": null,
            "grid_template_areas": null,
            "grid_template_columns": null,
            "grid_template_rows": null,
            "height": null,
            "justify_content": "space-between",
            "justify_items": null,
            "left": null,
            "margin": null,
            "max_height": null,
            "max_width": null,
            "min_height": null,
            "min_width": null,
            "object_fit": null,
            "object_position": null,
            "order": null,
            "overflow": null,
            "overflow_x": null,
            "overflow_y": null,
            "padding": null,
            "right": null,
            "top": null,
            "visibility": null,
            "width": "55%"
          }
        },
        "f68b7bfb519742228b0ffeb0b6883481": {
          "model_module": "@jupyter-widgets/controls",
          "model_name": "DescriptionStyleModel",
          "model_module_version": "1.5.0",
          "state": {
            "_model_module": "@jupyter-widgets/controls",
            "_model_module_version": "1.5.0",
            "_model_name": "DescriptionStyleModel",
            "_view_count": null,
            "_view_module": "@jupyter-widgets/base",
            "_view_module_version": "1.2.0",
            "_view_name": "StyleView",
            "description_width": "initial"
          }
        },
        "4a3044eb9f7d494d96f321be429b0c20": {
          "model_module": "@jupyter-widgets/controls",
          "model_name": "DescriptionStyleModel",
          "model_module_version": "1.5.0",
          "state": {
            "_model_module": "@jupyter-widgets/controls",
            "_model_module_version": "1.5.0",
            "_model_name": "DescriptionStyleModel",
            "_view_count": null,
            "_view_module": "@jupyter-widgets/base",
            "_view_module_version": "1.2.0",
            "_view_name": "StyleView",
            "description_width": "initial"
          }
        },
        "713a714e6841459591935969865b0c90": {
          "model_module": "@jupyter-widgets/controls",
          "model_name": "DescriptionStyleModel",
          "model_module_version": "1.5.0",
          "state": {
            "_model_module": "@jupyter-widgets/controls",
            "_model_module_version": "1.5.0",
            "_model_name": "DescriptionStyleModel",
            "_view_count": null,
            "_view_module": "@jupyter-widgets/base",
            "_view_module_version": "1.2.0",
            "_view_name": "StyleView",
            "description_width": "initial"
          }
        },
        "50f91631a3a64bce8a284139ed89989f": {
          "model_module": "@jupyter-widgets/controls",
          "model_name": "ButtonModel",
          "model_module_version": "1.5.0",
          "state": {
            "_dom_classes": [],
            "_model_module": "@jupyter-widgets/controls",
            "_model_module_version": "1.5.0",
            "_model_name": "ButtonModel",
            "_view_count": null,
            "_view_module": "@jupyter-widgets/controls",
            "_view_module_version": "1.5.0",
            "_view_name": "ButtonView",
            "button_style": "",
            "description": "Simular",
            "disabled": false,
            "icon": "",
            "layout": "IPY_MODEL_1c253ce346be4c5782edb8c97edffa21",
            "style": "IPY_MODEL_db716a82f79b4108918954bfb1069392",
            "tooltip": ""
          }
        },
        "1c253ce346be4c5782edb8c97edffa21": {
          "model_module": "@jupyter-widgets/base",
          "model_name": "LayoutModel",
          "model_module_version": "1.2.0",
          "state": {
            "_model_module": "@jupyter-widgets/base",
            "_model_module_version": "1.2.0",
            "_model_name": "LayoutModel",
            "_view_count": null,
            "_view_module": "@jupyter-widgets/base",
            "_view_module_version": "1.2.0",
            "_view_name": "LayoutView",
            "align_content": null,
            "align_items": null,
            "align_self": null,
            "border": null,
            "bottom": null,
            "display": null,
            "flex": null,
            "flex_flow": null,
            "grid_area": null,
            "grid_auto_columns": null,
            "grid_auto_flow": null,
            "grid_auto_rows": null,
            "grid_column": null,
            "grid_gap": null,
            "grid_row": null,
            "grid_template_areas": null,
            "grid_template_columns": null,
            "grid_template_rows": null,
            "height": null,
            "justify_content": null,
            "justify_items": null,
            "left": null,
            "margin": null,
            "max_height": null,
            "max_width": null,
            "min_height": null,
            "min_width": null,
            "object_fit": null,
            "object_position": null,
            "order": null,
            "overflow": null,
            "overflow_x": null,
            "overflow_y": null,
            "padding": null,
            "right": null,
            "top": null,
            "visibility": null,
            "width": null
          }
        },
        "db716a82f79b4108918954bfb1069392": {
          "model_module": "@jupyter-widgets/controls",
          "model_name": "ButtonStyleModel",
          "model_module_version": "1.5.0",
          "state": {
            "_model_module": "@jupyter-widgets/controls",
            "_model_module_version": "1.5.0",
            "_model_name": "ButtonStyleModel",
            "_view_count": null,
            "_view_module": "@jupyter-widgets/base",
            "_view_module_version": "1.2.0",
            "_view_name": "StyleView",
            "button_color": null,
            "font_weight": ""
          }
        }
      }
    }
  },
  "cells": [
    {
      "cell_type": "markdown",
      "metadata": {
        "id": "view-in-github",
        "colab_type": "text"
      },
      "source": [
        "<a href=\"https://colab.research.google.com/github/crislanecas/Challenge_setor_aereo/blob/main/Simulador_Tempo_de_Atraso_de_Voo_(apresenta%C3%A7%C3%A3o).ipynb\" target=\"_parent\"><img src=\"https://colab.research.google.com/assets/colab-badge.svg\" alt=\"Open In Colab\"/></a>"
      ]
    },
    {
      "cell_type": "code",
      "source": [
        "# Importa a biblioteca.\n",
        "import pickle"
      ],
      "metadata": {
        "id": "i4k6M1qsNlxk"
      },
      "execution_count": null,
      "outputs": []
    },
    {
      "cell_type": "code",
      "execution_count": null,
      "metadata": {
        "id": "oFx6sy8qNgea"
      },
      "outputs": [],
      "source": [
        "# Processo de input abir e ler o modelo estimado.\n",
        "modelo = open('/content/drive/MyDrive/Colab Notebooks/Bootcamp Data Analytics - WoMakersCode/Desafios WoMakerCode/modelo_tempo_atraso','rb')\n",
        "lm_new = pickle.load(modelo)\n",
        "modelo.close()"
      ]
    },
    {
      "cell_type": "code",
      "source": [
        "# Importa as bibliotecas para criar o formulário.\n",
        "from ipywidgets import widgets, Layout, HBox, VBox\n",
        "from IPython.display import display"
      ],
      "metadata": {
        "id": "yGX_J40QYV3N"
      },
      "execution_count": null,
      "outputs": []
    },
    {
      "cell_type": "code",
      "source": [
        "# Define o estilo de largura da descrição.\n",
        "style = {'description_width': 'initial'}\n",
        "\n",
        "# Define um layout para os controles do formulário.\n",
        "layout = Layout(\n",
        "    display='flex',\n",
        "    flex_flow='column',\n",
        "    justify_content='space-between',\n",
        "    width='55%'\n",
        ")\n",
        "\n",
        "# Cria os controles do formulário.\n",
        "Distance = widgets.Text(description=\"Distância entre aeroportos (milhas):\", style=style , layout=layout)\n",
        "DepDelayMinutes = widgets.Text(description=\"Diferença entre partida programado e o real (minutos):\", style=style, layout=layout)\n",
        "AirTime = widgets.Text(description=\"Tempo de voo (minutos):\", style=style, layout=layout)\n",
        "\n",
        "# Cria o botão do formulário.\n",
        "botao = widgets.Button(description=\"Simular\")\n",
        "\n",
        "# Posiciona os controles.\n",
        "left = VBox([Distance, DepDelayMinutes, AirTime])\n",
        "inputs = HBox([left])\n",
        "\n",
        "# Função de simulação.\n",
        "def simulador(sender):\n",
        "    entrada=[[\n",
        "                float(Distance.value if Distance.value else 0),\n",
        "                float(DepDelayMinutes.value if DepDelayMinutes.value else 0),\n",
        "                float(AirTime.value if AirTime.value else 0)\n",
        "\n",
        "             ]]\n",
        "    print('{0:.2f} tempo de atraso de voo em minutos.'.format(lm_new.predict(entrada)[0]))\n",
        "\n",
        "# Atribui a função \"simulador\" ao evento click do botão.\n",
        "botao.on_click(simulador)\n",
        "\n",
        "# Exibe os controles de inputs e botão,\n",
        "display(inputs, botao)"
      ],
      "metadata": {
        "id": "ds2kmaB3NLH2",
        "colab": {
          "base_uri": "https://localhost:8080/",
          "height": 229,
          "referenced_widgets": [
            "70dab5da3c4a49a89d7ea192a20f559d",
            "fa60edce16ba40c499fd67f0f6bb239c",
            "109aec8ffa4a44e9b168e198e3f978f9",
            "e38e6db434b344609d971a0d46aa6e8e",
            "3c397c3d322b49ca9a33346fd56892b8",
            "40c720a0c50947509ebb5de0852bd04c",
            "295efebc45ec409f883fd38b8b8a1b68",
            "74b278ec04924c759e5b708a8ab186bf",
            "f68b7bfb519742228b0ffeb0b6883481",
            "4a3044eb9f7d494d96f321be429b0c20",
            "713a714e6841459591935969865b0c90",
            "50f91631a3a64bce8a284139ed89989f",
            "1c253ce346be4c5782edb8c97edffa21",
            "db716a82f79b4108918954bfb1069392"
          ]
        },
        "outputId": "c59dc024-3353-46cf-ad36-b0960c711c9b"
      },
      "execution_count": null,
      "outputs": [
        {
          "output_type": "display_data",
          "data": {
            "text/plain": [
              "HBox(children=(VBox(children=(Text(value='', description='Distância entre aeroportos (milhas):', layout=Layout…"
            ],
            "application/vnd.jupyter.widget-view+json": {
              "version_major": 2,
              "version_minor": 0,
              "model_id": "70dab5da3c4a49a89d7ea192a20f559d"
            }
          },
          "metadata": {}
        },
        {
          "output_type": "display_data",
          "data": {
            "text/plain": [
              "Button(description='Simular', style=ButtonStyle())"
            ],
            "application/vnd.jupyter.widget-view+json": {
              "version_major": 2,
              "version_minor": 0,
              "model_id": "50f91631a3a64bce8a284139ed89989f"
            }
          },
          "metadata": {}
        }
      ]
    }
  ]
}